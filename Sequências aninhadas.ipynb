{
  "nbformat": 4,
  "nbformat_minor": 0,
  "metadata": {
    "colab": {
      "provenance": [],
      "authorship_tag": "ABX9TyOHTJE9UudjEWWk96ck20wT",
      "include_colab_link": true
    },
    "kernelspec": {
      "name": "python3",
      "display_name": "Python 3"
    },
    "language_info": {
      "name": "python"
    }
  },
  "cells": [
    {
      "cell_type": "markdown",
      "metadata": {
        "id": "view-in-github",
        "colab_type": "text"
      },
      "source": [
        "<a href=\"https://colab.research.google.com/github/yurikomuta/python/blob/master/Sequ%C3%AAncias%20aninhadas.ipynb\" target=\"_parent\"><img src=\"https://colab.research.google.com/assets/colab-badge.svg\" alt=\"Open In Colab\"/></a>"
      ]
    },
    {
      "cell_type": "markdown",
      "source": [
        "Imports"
      ],
      "metadata": {
        "id": "-2jWkZJTC52e"
      }
    },
    {
      "cell_type": "code",
      "execution_count": 12,
      "metadata": {
        "id": "qNMe5YQn_UEh"
      },
      "outputs": [],
      "source": [
        "import copy"
      ]
    },
    {
      "cell_type": "code",
      "source": [
        "L1 = [10,20, 30,[40,50], 60]\n",
        "L2 = L1\n",
        "L3 = copy. copy (L1)\n",
        "L4 = L1[:]\n",
        "L5 = L1.copy ()\n",
        "L6 = list (L1)\n",
        "L7 = copy .deepcopy (L1)"
      ],
      "metadata": {
        "id": "UN4AWIIn_hLP"
      },
      "execution_count": 4,
      "outputs": []
    },
    {
      "cell_type": "code",
      "source": [
        "print(L1)"
      ],
      "metadata": {
        "colab": {
          "base_uri": "https://localhost:8080/"
        },
        "id": "lU7pirg7CV5l",
        "outputId": "e180cb88-9c30-4026-baa7-8f3ef03b5a54"
      },
      "execution_count": 5,
      "outputs": [
        {
          "output_type": "stream",
          "name": "stdout",
          "text": [
            "[10, 20, 30, [40, 50], 60]\n"
          ]
        }
      ]
    },
    {
      "cell_type": "markdown",
      "source": [
        "L2 = cópia da referência à lista original"
      ],
      "metadata": {
        "id": "x9cHVLpNDAz4"
      }
    },
    {
      "cell_type": "code",
      "source": [
        "print(L2)"
      ],
      "metadata": {
        "colab": {
          "base_uri": "https://localhost:8080/"
        },
        "id": "hEMvrSWMCY_C",
        "outputId": "28d6c583-fbcf-491f-c544-1c83ebf2c851"
      },
      "execution_count": 6,
      "outputs": [
        {
          "output_type": "stream",
          "name": "stdout",
          "text": [
            "[10, 20, 30, [40, 50], 60]\n"
          ]
        }
      ]
    },
    {
      "cell_type": "markdown",
      "source": [
        "L3 = cópia rasa da lista original\n"
      ],
      "metadata": {
        "id": "9MZ20MmwDGo6"
      }
    },
    {
      "cell_type": "code",
      "source": [
        "print(L3)"
      ],
      "metadata": {
        "colab": {
          "base_uri": "https://localhost:8080/"
        },
        "id": "Ayf27gKACdT6",
        "outputId": "9cc1ea21-26f8-4046-9abe-b404ac83234c"
      },
      "execution_count": 7,
      "outputs": [
        {
          "output_type": "stream",
          "name": "stdout",
          "text": [
            "[10, 20, 30, [40, 50], 60]\n"
          ]
        }
      ]
    },
    {
      "cell_type": "markdown",
      "source": [
        "L4 = cópia rasa da lista original"
      ],
      "metadata": {
        "id": "jChreeEBDKmx"
      }
    },
    {
      "cell_type": "code",
      "source": [
        "print(L4)"
      ],
      "metadata": {
        "colab": {
          "base_uri": "https://localhost:8080/"
        },
        "id": "vy_qnLS0CjB6",
        "outputId": "25b51737-0e24-4939-8dd3-51313611087e"
      },
      "execution_count": 8,
      "outputs": [
        {
          "output_type": "stream",
          "name": "stdout",
          "text": [
            "[10, 20, 30, [40, 50], 60]\n"
          ]
        }
      ]
    },
    {
      "cell_type": "markdown",
      "source": [
        "L5 = cópia rasa da lista original"
      ],
      "metadata": {
        "id": "9wNrleJdDOyx"
      }
    },
    {
      "cell_type": "code",
      "source": [
        "print(L5)"
      ],
      "metadata": {
        "colab": {
          "base_uri": "https://localhost:8080/"
        },
        "id": "5yBTF725Cnz6",
        "outputId": "85751e89-a765-4917-9570-d036038fd4e5"
      },
      "execution_count": 9,
      "outputs": [
        {
          "output_type": "stream",
          "name": "stdout",
          "text": [
            "[10, 20, 30, [40, 50], 60]\n"
          ]
        }
      ]
    },
    {
      "cell_type": "markdown",
      "source": [
        "L6 = cópia rasa da lista original"
      ],
      "metadata": {
        "id": "y3LSzvn4DUCt"
      }
    },
    {
      "cell_type": "code",
      "source": [
        "print(L6)"
      ],
      "metadata": {
        "colab": {
          "base_uri": "https://localhost:8080/"
        },
        "id": "oYYwmzuxCs20",
        "outputId": "ad0cb9b3-70f0-4c8b-fdb7-3bc36b936c03"
      },
      "execution_count": 10,
      "outputs": [
        {
          "output_type": "stream",
          "name": "stdout",
          "text": [
            "[10, 20, 30, [40, 50], 60]\n"
          ]
        }
      ]
    },
    {
      "cell_type": "markdown",
      "source": [
        "L7 = cópia profunda da lista original"
      ],
      "metadata": {
        "id": "35DtL9TnDWUx"
      }
    },
    {
      "cell_type": "code",
      "source": [
        "print(L7)"
      ],
      "metadata": {
        "colab": {
          "base_uri": "https://localhost:8080/"
        },
        "id": "WvsILwoECwES",
        "outputId": "a8b3bcd5-d741-41be-dd84-3e935b5be1ea"
      },
      "execution_count": 11,
      "outputs": [
        {
          "output_type": "stream",
          "name": "stdout",
          "text": [
            "[10, 20, 30, [40, 50], 60]\n"
          ]
        }
      ]
    }
  ]
}